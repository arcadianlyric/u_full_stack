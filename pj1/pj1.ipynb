{
 "cells": [
  {
   "cell_type": "code",
   "execution_count": 1,
   "metadata": {},
   "outputs": [],
   "source": [
    "import psycopg2"
   ]
  },
  {
   "cell_type": "code",
   "execution_count": 6,
   "metadata": {},
   "outputs": [],
   "source": [
    "conn = psycopg2.connect('dbname=todoapp_development user=cc')\n",
    "\n",
    "# cursor = conn.cursor() # why ?\n",
    "\n",
    "# Open a cursor to perform database operations\n",
    "cur = conn.cursor()\n",
    "\n",
    "# drop any existing todos table\n",
    "cur.execute(\"DROP TABLE IF EXISTS todos2;\")\n",
    "\n",
    "# (re)create the todos table\n",
    "# (note: triple quotes allow multiline text in python)\n",
    "cur.execute(\"\"\"\n",
    "  CREATE TABLE todos2 (\n",
    "    id serial PRIMARY KEY,\n",
    "    description VARCHAR NOT NULL\n",
    "  );\n",
    "\"\"\")\n",
    "\n",
    "# commit, so it does the executions on the db and persists in the db\n",
    "conn.commit()\n",
    "\n",
    "cur.close()\n",
    "conn.close()"
   ]
  },
  {
   "cell_type": "code",
   "execution_count": 7,
   "metadata": {},
   "outputs": [],
   "source": [
    "conn = psycopg2.connect('dbname=example')\n",
    "\n",
    "cur = conn.cursor()\n",
    "\n",
    "cur.execute('DROP TABLE IF EXISTS table2;')\n",
    "\n",
    "cur.execute('''\n",
    "  CREATE TABLE table2 (\n",
    "    id INTEGER PRIMARY KEY,\n",
    "    completed BOOLEAN NOT NULL DEFAULT False\n",
    "  );\n",
    "''')\n",
    "\n",
    "cur.execute('INSERT INTO table2 (id, completed) VALUES (%s, %s);', (1, True))\n",
    "\n",
    "SQL = 'INSERT INTO table2 (id, completed) VALUES (%(id)s, %(completed)s);'\n",
    "\n",
    "data = {\n",
    "  'id': 2,\n",
    "  'completed': False\n",
    "}\n",
    "cur.execute(SQL, data)\n",
    "\n",
    "conn.commit()\n",
    "\n",
    "conn.close()\n",
    "cur.close()"
   ]
  },
  {
   "cell_type": "code",
   "execution_count": 10,
   "metadata": {},
   "outputs": [
    {
     "name": "stdout",
     "output_type": "stream",
     "text": [
      "fetchmany [(1, True)]\n",
      "fetchone (2, False)\n",
      "fetchall [(3, True), (4, True)]\n"
     ]
    }
   ],
   "source": [
    "conn = psycopg2.connect('dbname=example')\n",
    "\n",
    "cur = conn.cursor()\n",
    "\n",
    "\n",
    "cur.execute('INSERT INTO table2 (id, completed) VALUES (%s, %s);', (4, True))\n",
    "cur.execute('select * from table2;')\n",
    "\n",
    "\n",
    "result1= cur.fetchmany(1)\n",
    "print('fetchmany', result1)\n",
    "print('fetchone', cur.fetchone())\n",
    "print('fetchall', cur.fetchall())\n",
    "\n",
    "conn.commit()\n",
    "\n",
    "conn.close()\n",
    "cur.close()"
   ]
  },
  {
   "cell_type": "code",
   "execution_count": 12,
   "metadata": {},
   "outputs": [
    {
     "name": "stdout",
     "output_type": "stream",
     "text": [
      "fetchall [(1, True), (2, False), (3, True), (4, True)]\n"
     ]
    }
   ],
   "source": [
    "conn = psycopg2.connect('dbname=example')\n",
    "\n",
    "cur = conn.cursor()\n",
    "cur.execute('select * from table2;')\n",
    "\n",
    "print('fetchall', cur.fetchall())"
   ]
  },
  {
   "cell_type": "code",
   "execution_count": 4,
   "metadata": {},
   "outputs": [
    {
     "name": "stdout",
     "output_type": "stream",
     "text": [
      " * Serving Flask app \"__main__\" (lazy loading)\n",
      " * Environment: production\n",
      "   WARNING: This is a development server. Do not use it in a production deployment.\n",
      "   Use a production WSGI server instead.\n",
      " * Debug mode: off\n"
     ]
    },
    {
     "name": "stderr",
     "output_type": "stream",
     "text": [
      "/Users/yingcai/opt/anaconda3/lib/python3.7/site-packages/flask_sqlalchemy/__init__.py:834: FSADeprecationWarning: SQLALCHEMY_TRACK_MODIFICATIONS adds significant overhead and will be disabled by default in the future.  Set it to True or False to suppress this warning.\n",
      "  'SQLALCHEMY_TRACK_MODIFICATIONS adds significant overhead and '\n",
      " * Running on http://127.0.0.1:5000/ (Press CTRL+C to quit)\n"
     ]
    }
   ],
   "source": [
    "from flask import Flask\n",
    "from flask_sqlalchemy import SQLAlchemy\n",
    "\n",
    "app = Flask(__name__)\n",
    "app.config['SQLALCHEMY_DATABASE_URI'] = 'postgresql://cc:cc@localhost:5432/example'\n",
    "db = SQLAlchemy(app)\n",
    "\n",
    "class Person(db.Model):\n",
    "    __tablename__ = 'persons'\n",
    "    id = db.Column(db.Integer, primary_key=True)\n",
    "    name = db.Column(db.String(), nullable=False)\n",
    "\n",
    "db.create_all()\n",
    "\n",
    "@app.route('/')\n",
    "def index():\n",
    "    return 'hello'\n",
    "\n",
    "app.run()"
   ]
  },
  {
   "cell_type": "code",
   "execution_count": 7,
   "metadata": {},
   "outputs": [
    {
     "name": "stdout",
     "output_type": "stream",
     "text": [
      "[<Person ID: 1, name: amy>, <Person ID: 2, name: aa>]\n"
     ]
    }
   ],
   "source": [
    "from flask_hello_app import db, Person\n",
    "print(Person.query.all())"
   ]
  },
  {
   "cell_type": "code",
   "execution_count": 8,
   "metadata": {},
   "outputs": [],
   "source": [
    "bob= Person(name='bob')\n",
    "db.session.add(bob)\n",
    "db.session.commit()"
   ]
  },
  {
   "cell_type": "code",
   "execution_count": 10,
   "metadata": {},
   "outputs": [
    {
     "name": "stdout",
     "output_type": "stream",
     "text": [
      "Hello aa\n"
     ]
    }
   ],
   "source": [
    "person = Person.query.all()\n",
    "print('Hello ' + person[1].name)"
   ]
  },
  {
   "cell_type": "markdown",
   "metadata": {},
   "source": []
  },
  {
   "cell_type": "code",
   "execution_count": null,
   "metadata": {},
   "outputs": [],
   "source": []
  }
 ],
 "metadata": {
  "kernelspec": {
   "display_name": "Python 3",
   "language": "python",
   "name": "python3"
  },
  "language_info": {
   "codemirror_mode": {
    "name": "ipython",
    "version": 3
   },
   "file_extension": ".py",
   "mimetype": "text/x-python",
   "name": "python",
   "nbconvert_exporter": "python",
   "pygments_lexer": "ipython3",
   "version": "3.7.4"
  }
 },
 "nbformat": 4,
 "nbformat_minor": 4
}
