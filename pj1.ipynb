{
 "cells": [
  {
   "cell_type": "code",
   "execution_count": 1,
   "metadata": {},
   "outputs": [],
   "source": [
    "import psycopg2"
   ]
  },
  {
   "cell_type": "code",
   "execution_count": 6,
   "metadata": {},
   "outputs": [],
   "source": [
    "conn = psycopg2.connect('dbname=todoapp_development user=cc')\n",
    "\n",
    "# cursor = conn.cursor() # why ?\n",
    "\n",
    "# Open a cursor to perform database operations\n",
    "cur = conn.cursor()\n",
    "\n",
    "# drop any existing todos table\n",
    "cur.execute(\"DROP TABLE IF EXISTS todos2;\")\n",
    "\n",
    "# (re)create the todos table\n",
    "# (note: triple quotes allow multiline text in python)\n",
    "cur.execute(\"\"\"\n",
    "  CREATE TABLE todos2 (\n",
    "    id serial PRIMARY KEY,\n",
    "    description VARCHAR NOT NULL\n",
    "  );\n",
    "\"\"\")\n",
    "\n",
    "# commit, so it does the executions on the db and persists in the db\n",
    "conn.commit()\n",
    "\n",
    "cur.close()\n",
    "conn.close()"
   ]
  },
  {
   "cell_type": "code",
   "execution_count": 7,
   "metadata": {},
   "outputs": [],
   "source": [
    "conn = psycopg2.connect('dbname=example')\n",
    "\n",
    "cur = conn.cursor()\n",
    "\n",
    "cur.execute('DROP TABLE IF EXISTS table2;')\n",
    "\n",
    "cur.execute('''\n",
    "  CREATE TABLE table2 (\n",
    "    id INTEGER PRIMARY KEY,\n",
    "    completed BOOLEAN NOT NULL DEFAULT False\n",
    "  );\n",
    "''')\n",
    "\n",
    "cur.execute('INSERT INTO table2 (id, completed) VALUES (%s, %s);', (1, True))\n",
    "\n",
    "SQL = 'INSERT INTO table2 (id, completed) VALUES (%(id)s, %(completed)s);'\n",
    "\n",
    "data = {\n",
    "  'id': 2,\n",
    "  'completed': False\n",
    "}\n",
    "cur.execute(SQL, data)\n",
    "\n",
    "conn.commit()\n",
    "\n",
    "conn.close()\n",
    "cur.close()"
   ]
  },
  {
   "cell_type": "code",
   "execution_count": 10,
   "metadata": {},
   "outputs": [
    {
     "name": "stdout",
     "output_type": "stream",
     "text": [
      "fetchmany [(1, True)]\n",
      "fetchone (2, False)\n",
      "fetchall [(3, True), (4, True)]\n"
     ]
    }
   ],
   "source": [
    "conn = psycopg2.connect('dbname=example')\n",
    "\n",
    "cur = conn.cursor()\n",
    "\n",
    "\n",
    "cur.execute('INSERT INTO table2 (id, completed) VALUES (%s, %s);', (4, True))\n",
    "cur.execute('select * from table2;')\n",
    "\n",
    "\n",
    "result1= cur.fetchmany(1)\n",
    "print('fetchmany', result1)\n",
    "print('fetchone', cur.fetchone())\n",
    "print('fetchall', cur.fetchall())\n",
    "\n",
    "conn.commit()\n",
    "\n",
    "conn.close()\n",
    "cur.close()"
   ]
  },
  {
   "cell_type": "code",
   "execution_count": 12,
   "metadata": {},
   "outputs": [
    {
     "name": "stdout",
     "output_type": "stream",
     "text": [
      "fetchall [(1, True), (2, False), (3, True), (4, True)]\n"
     ]
    }
   ],
   "source": [
    "conn = psycopg2.connect('dbname=example')\n",
    "\n",
    "cur = conn.cursor()\n",
    "cur.execute('select * from table2;')\n",
    "\n",
    "print('fetchall', cur.fetchall())"
   ]
  },
  {
   "cell_type": "code",
   "execution_count": null,
   "metadata": {},
   "outputs": [],
   "source": []
  }
 ],
 "metadata": {
  "kernelspec": {
   "display_name": "Python 3",
   "language": "python",
   "name": "python3"
  },
  "language_info": {
   "codemirror_mode": {
    "name": "ipython",
    "version": 3
   },
   "file_extension": ".py",
   "mimetype": "text/x-python",
   "name": "python",
   "nbconvert_exporter": "python",
   "pygments_lexer": "ipython3",
   "version": "3.7.4"
  }
 },
 "nbformat": 4,
 "nbformat_minor": 4
}
