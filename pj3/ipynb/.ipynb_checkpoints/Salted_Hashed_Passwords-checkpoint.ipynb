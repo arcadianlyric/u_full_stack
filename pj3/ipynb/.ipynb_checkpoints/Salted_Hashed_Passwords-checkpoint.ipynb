{
 "cells": [
  {
   "cell_type": "code",
   "execution_count": 1,
   "metadata": {
    "graffitiCellId": "id_o5zz5un"
   },
   "outputs": [
    {
     "name": "stdout",
     "output_type": "stream",
     "text": [
      "Collecting bcrypt\n",
      "\u001b[?25l  Downloading https://files.pythonhosted.org/packages/52/a7/51ab6481ac355517696477889d8ab232106a0ddadda642c54e47a2ab40b9/bcrypt-3.2.0-cp36-abi3-manylinux1_x86_64.whl (63kB)\n",
      "\u001b[K    100% |████████████████████████████████| 71kB 3.1MB/s ta 0:00:011\n",
      "\u001b[?25hRequirement already satisfied: cffi>=1.1 in /opt/conda/lib/python3.6/site-packages (from bcrypt) (1.11.2)\n",
      "Requirement already satisfied: six>=1.4.1 in /opt/conda/lib/python3.6/site-packages (from bcrypt) (1.11.0)\n",
      "Requirement already satisfied: pycparser in /opt/conda/lib/python3.6/site-packages (from cffi>=1.1->bcrypt) (2.18)\n",
      "Installing collected packages: bcrypt\n",
      "Successfully installed bcrypt-3.2.0\n"
     ]
    }
   ],
   "source": [
    "# Import the Python Library\n",
    "import sys\n",
    "!{sys.executable} -m pip install bcrypt\n",
    "import bcrypt"
   ]
  },
  {
   "cell_type": "code",
   "execution_count": 2,
   "metadata": {
    "graffitiCellId": "id_ewiz7ij"
   },
   "outputs": [],
   "source": [
    "password = b\"studyhard\""
   ]
  },
  {
   "cell_type": "code",
   "execution_count": 5,
   "metadata": {
    "graffitiCellId": "id_okz0ahc"
   },
   "outputs": [
    {
     "name": "stdout",
     "output_type": "stream",
     "text": [
      "b'$2b$14$2HkMYUemdyUdY.fzvtQ80.'\n",
      "b'$2b$14$2HkMYUemdyUdY.fzvtQ80.Tci7hOYw/WbDeYP3iZLYRZw/naJiyFi'\n",
      "b'$2b$04$PmLJqLANx4VlZ0iwjToA3O'\n",
      "b'$2b$04$PmLJqLANx4VlZ0iwjToA3OsJ2j9iETRQJDO0014QCs.UQDtZnb80a'\n"
     ]
    }
   ],
   "source": [
    "# Hash a password for the first time, with a certain number of rounds\n",
    "salt = bcrypt.gensalt(14)\n",
    "hashed = bcrypt.hashpw(password, salt)\n",
    "print(salt)\n",
    "print(hashed)\n",
    "\n",
    "salt = bcrypt.gensalt(4)\n",
    "print(salt)\n",
    "print(bcrypt.hashpw(password, salt))"
   ]
  },
  {
   "cell_type": "code",
   "execution_count": null,
   "metadata": {
    "graffitiCellId": "id_vve0col"
   },
   "outputs": [],
   "source": [
    "# Check a plain text string against the salted, hashed digest\n",
    "bcrypt.checkpw(password, hashed)"
   ]
  }
 ],
 "metadata": {
  "graffiti": {
   "firstAuthorId": "10489997357",
   "id": "id_owkala1",
   "language": "EN"
  },
  "kernelspec": {
   "display_name": "Python 3",
   "language": "python",
   "name": "python3"
  },
  "language_info": {
   "codemirror_mode": {
    "name": "ipython",
    "version": 3
   },
   "file_extension": ".py",
   "mimetype": "text/x-python",
   "name": "python",
   "nbconvert_exporter": "python",
   "pygments_lexer": "ipython3",
   "version": "3.6.3"
  }
 },
 "nbformat": 4,
 "nbformat_minor": 2
}
