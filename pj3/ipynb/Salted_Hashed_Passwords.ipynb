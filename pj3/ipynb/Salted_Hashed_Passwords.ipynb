{
 "cells": [
  {
   "cell_type": "code",
   "execution_count": 1,
   "metadata": {
    "graffitiCellId": "id_o5zz5un"
   },
   "outputs": [
    {
     "name": "stdout",
     "output_type": "stream",
     "text": [
      "Collecting bcrypt\n",
      "  Downloading https://files.pythonhosted.org/packages/bf/6a/0afb1e04aebd4c3ceae630a87a55fbfbbd94dea4eaf01e53d36743c85f02/bcrypt-3.2.0-cp36-abi3-macosx_10_9_x86_64.whl\n",
      "Requirement already satisfied: six>=1.4.1 in /Users/yingcai/opt/anaconda3/lib/python3.7/site-packages (from bcrypt) (1.12.0)\n",
      "Requirement already satisfied: cffi>=1.1 in /Users/yingcai/opt/anaconda3/lib/python3.7/site-packages (from bcrypt) (1.12.3)\n",
      "Requirement already satisfied: pycparser in /Users/yingcai/opt/anaconda3/lib/python3.7/site-packages (from cffi>=1.1->bcrypt) (2.19)\n",
      "Installing collected packages: bcrypt\n",
      "Successfully installed bcrypt-3.2.0\n"
     ]
    }
   ],
   "source": [
    "# Import the Python Library\n",
    "import sys\n",
    "!{sys.executable} -m pip install bcrypt\n",
    "import bcrypt"
   ]
  },
  {
   "cell_type": "code",
   "execution_count": 2,
   "metadata": {
    "graffitiCellId": "id_ewiz7ij"
   },
   "outputs": [],
   "source": [
    "password = b\"studyhard\""
   ]
  },
  {
   "cell_type": "code",
   "execution_count": 5,
   "metadata": {
    "graffitiCellId": "id_okz0ahc"
   },
   "outputs": [
    {
     "name": "stdout",
     "output_type": "stream",
     "text": [
      "b'$2b$14$2HkMYUemdyUdY.fzvtQ80.'\n",
      "b'$2b$14$2HkMYUemdyUdY.fzvtQ80.Tci7hOYw/WbDeYP3iZLYRZw/naJiyFi'\n",
      "b'$2b$04$PmLJqLANx4VlZ0iwjToA3O'\n",
      "b'$2b$04$PmLJqLANx4VlZ0iwjToA3OsJ2j9iETRQJDO0014QCs.UQDtZnb80a'\n"
     ]
    }
   ],
   "source": [
    "# Hash a password for the first time, with a certain number of rounds\n",
    "salt = bcrypt.gensalt(14)\n",
    "hashed = bcrypt.hashpw(password, salt)\n",
    "print(salt)\n",
    "print(hashed)\n",
    "\n",
    "salt = bcrypt.gensalt(4)\n",
    "print(salt)\n",
    "print(bcrypt.hashpw(password, salt))"
   ]
  },
  {
   "cell_type": "code",
   "execution_count": null,
   "metadata": {
    "graffitiCellId": "id_vve0col"
   },
   "outputs": [],
   "source": [
    "# Check a plain text string against the salted, hashed digest\n",
    "bcrypt.checkpw(password, hashed)"
   ]
  }
 ],
 "metadata": {
  "graffiti": {
   "firstAuthorId": "10489997357",
   "id": "id_owkala1",
   "language": "EN"
  },
  "kernelspec": {
   "display_name": "Python 3",
   "language": "python",
   "name": "python3"
  },
  "language_info": {
   "codemirror_mode": {
    "name": "ipython",
    "version": 3
   },
   "file_extension": ".py",
   "mimetype": "text/x-python",
   "name": "python",
   "nbconvert_exporter": "python",
   "pygments_lexer": "ipython3",
   "version": "3.7.4"
  }
 },
 "nbformat": 4,
 "nbformat_minor": 4
}
