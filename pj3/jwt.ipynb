{
 "cells": [
  {
   "cell_type": "code",
   "execution_count": null,
   "metadata": {},
   "outputs": [],
   "source": [
    "# Import Python Package\n",
    "# pip install\n",
    "import jwt\n",
    "import base64\n",
    "\n",
    "# Init our Data\n",
    "payload = {'park':'madison square'}\n",
    "algo = 'HS256' #HMAC-SHA 256\n",
    "secret = 'learning'\n",
    "\n",
    "# Encode a JWT\n",
    "encoded_jwt = jwt.encode(payload, secret, algorithm=algo)\n",
    "print(encoded_jwt)\n",
    "\n",
    "# Decode a JWT\n",
    "decoded_jwt = jwt.decode(encoded_jwt, secret, verify=True)\n",
    "print(decoded_jwt)\n",
    "\n",
    "# Decode with Simple Base64 Encoding\n",
    "decoded_base64 = base64.b64decode(str(encoded_jwt).split(\".\")[1]+\"==\")\n",
    "print(decoded_base64)\n",
    "\n"
   ]
  },
  {
   "cell_type": "code",
   "execution_count": null,
   "metadata": {},
   "outputs": [],
   "source": []
  }
 ],
 "metadata": {
  "kernelspec": {
   "display_name": "coffee",
   "language": "python",
   "name": "coffee"
  },
  "language_info": {
   "codemirror_mode": {
    "name": "ipython",
    "version": 3
   },
   "file_extension": ".py",
   "mimetype": "text/x-python",
   "name": "python",
   "nbconvert_exporter": "python",
   "pygments_lexer": "ipython3",
   "version": "3.7.4"
  }
 },
 "nbformat": 4,
 "nbformat_minor": 2
}
