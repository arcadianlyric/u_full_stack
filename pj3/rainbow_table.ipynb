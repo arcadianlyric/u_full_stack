{
 "cells": [
  {
   "cell_type": "code",
   "execution_count": null,
   "metadata": {},
   "outputs": [],
   "source": [
    "# Load the NIST list of 10,000 most commonly used passwords\n",
    "with open('nist_10000.txt', newline='') as bad_passwords:\n",
    "    nist_bad = bad_passwords.read().split('\\n')\n",
    "print(nist_bad[1:10])\n",
    "\n",
    "# The following data is a normalized simplified user table\n",
    "# Imagine this information was stolen or leaked\n",
    "leaked_users_table = {\n",
    "    'jamie': {\n",
    "        'username': 'jamie',\n",
    "        'role': 'subscriber',\n",
    "        'md5': '203ad5ffa1d7c650ad681fdff3965cd2'\n",
    "    }, \n",
    "    'amanda': {\n",
    "        'username': 'amanda',\n",
    "        'role': 'administrator',\n",
    "        'md5': '315eb115d98fcbad39ffc5edebd669c9'\n",
    "    }, \n",
    "    'chiaki': {\n",
    "        'username': 'chiaki',\n",
    "        'role': 'subscriber',\n",
    "        'md5': '941c76b34f8687e46af0d94c167d1403'\n",
    "    }, \n",
    "    'viraj': {\n",
    "        'username': 'viraj',\n",
    "        'role': 'employee',\n",
    "        'md5': '319f4d26e3c536b5dd871bb2c52e3178'\n",
    "    },\n",
    "}\n",
    "\n",
    "# import the hashlib\n",
    "import hashlib \n",
    "# example hash\n",
    "word = 'blueberry'\n",
    "hashlib.md5(word.encode()).hexdigest()\n",
    "\n",
    "## Your Task!\n",
    "### Use the information above and hashlib to:\n",
    "1. Create a python dictionary for each word in the `nist_bad` list. For each word, the dictionary should use the hashlib.md5 string as a key, and the word as the value.\n",
    "2. Iterate over each user in the `leaked_users_table` dictionary and attempt to use the rainbow table to crack their password.\n",
    "\n",
    "# RAINBOW TABLE SOLUTION\n",
    "rainbow_table = {}\n",
    "for word in nist_bad:\n",
    "    hashed_word = hashlib.md5(word.encode()).hexdigest()\n",
    "    rainbow_table[hashed_word] = word\n",
    "    \n",
    "# Use the Rainbow table to determine the plain text password\n",
    "for user in leaked_users_table.keys():\n",
    "    try:\n",
    "        print(user + \":\\t\" + rainbow_table[leaked_users_table[user]['md5']])\n",
    "    except KeyError:\n",
    "        print(user + \":\\t\" + '******* hash not found in rainbow table')"
   ]
  }
 ],
 "metadata": {
  "kernelspec": {
   "display_name": "coffee",
   "language": "python",
   "name": "coffee"
  },
  "language_info": {
   "codemirror_mode": {
    "name": "ipython",
    "version": 3
   },
   "file_extension": ".py",
   "mimetype": "text/x-python",
   "name": "python",
   "nbconvert_exporter": "python",
   "pygments_lexer": "ipython3",
   "version": "3.7.4"
  }
 },
 "nbformat": 4,
 "nbformat_minor": 4
}
